{
 "cells": [
  {
   "cell_type": "markdown",
   "metadata": {},
   "source": [
    "## Case 1- When PDF is Digital"
   ]
  },
  {
   "cell_type": "code",
   "execution_count": 45,
   "metadata": {},
   "outputs": [],
   "source": [
    "# Reding PDFs using PyPDF2 library\n"
   ]
  },
  {
   "cell_type": "code",
   "execution_count": 64,
   "metadata": {},
   "outputs": [
    {
     "name": "stdout",
     "output_type": "stream",
     "text": [
      "Collecting PyPDF2\n",
      "  Using cached pypdf2-3.0.1-py3-none-any.whl.metadata (6.8 kB)\n",
      "Using cached pypdf2-3.0.1-py3-none-any.whl (232 kB)\n",
      "Installing collected packages: PyPDF2\n",
      "Successfully installed PyPDF2-3.0.1\n",
      "Note: you may need to restart the kernel to use updated packages.\n"
     ]
    }
   ],
   "source": []
  },
  {
   "cell_type": "code",
   "execution_count": 65,
   "metadata": {},
   "outputs": [],
   "source": [
    "#installing the library\n",
    "# pip install PyPDF2"
   ]
  },
  {
   "cell_type": "code",
   "execution_count": 66,
   "metadata": {},
   "outputs": [],
   "source": [
    "# Reading the content of PDF which is a resume\n",
    "import PyPDF2 #importing the library\n",
    "pdf_file_obj = open('Sachin_Saini_CV.pdf', 'rb')# opening the pdf file in read binary format"
   ]
  },
  {
   "cell_type": "code",
   "execution_count": 67,
   "metadata": {},
   "outputs": [],
   "source": [
    "pdf_reader = PyPDF2.PdfReader(pdf_file_obj) # creating pdf reader object"
   ]
  },
  {
   "cell_type": "code",
   "execution_count": 68,
   "metadata": {},
   "outputs": [],
   "source": [
    "num_pages = len(pdf_reader.pages) # reading the total pages"
   ]
  },
  {
   "cell_type": "code",
   "execution_count": 69,
   "metadata": {},
   "outputs": [
    {
     "name": "stdout",
     "output_type": "stream",
     "text": [
      " \n",
      "SACHIN SAINI                              E-mail: sainisachin3 93@gmail.co m  \n",
      "LinkedIn : https://www.linkedin.com/in/sachin -saini -664413100/  \n",
      "Github :  https://github.com/sainisachin393   \n",
      "Address : 150/25, Majid Mohalla, old sabzi mandi, Bahadurgarh  \n",
      "Phone: 7027020506  \n",
      "EXPERIENCE  \n",
      "Cognizant, Chennai          (July 2022 – Present)  \n",
      "Programmer Analyst, Data Scientist  \n",
      " \n",
      "1. Predicting CRS Net Promoter Score using Project Customer Satisfaction Data:  \n",
      "• Developed predictive models utilizing XGBoost for Customer Relationship Survey (CRS) Net Promoter \n",
      "Score, achieving 84% training and 75% test accuracy.  \n",
      "• Managed missing data through Singular Vector Decomposition and descriptive statistics.  \n",
      "• Conducted hyperparameter tuning and K -fold Cross Validation for model optimization.  \n",
      "• Presented insights and recommendations to stakeholders to enhance customer satisfaction.  \n",
      " \n",
      "2. Built Generative AI Content Generation Tool for Search Engine Optimization:  \n",
      "• Developed a tool to generate Topic, Keywords, Title, Alt text, and blog posts for cog.com website, \n",
      "focusing on enhancing search engine optimization (SEO) efforts.  \n",
      "• Implemented Prompt Engineering Techniques like Few Shot Learning with Reflexion to improve the tool's \n",
      "performance and adaptability.  \n",
      "• Collaborated with content writing and SEO teams to align generated content with SEO best practices and \n",
      "Cognizant's style guide.  \n",
      "• Built restful APIs with Flask integrated with GPT4 at backend and deployed the tool on Azure app services \n",
      "for scalability and reliability.  \n",
      " \n",
      "3. Natural Language Query to Google Big Query Generator:  \n",
      "• Created a demo application to generate Google Big Query code from natural language queries.  \n",
      "• Leveraged 3 -shot learning with Reflexion prompt engineering techniques for accurate query generation.  \n",
      "• Designed an intuitive user interface using Gradio for user -friendly interaction.  \n",
      " \n",
      "RESEARCH EXPERIENCE  \n",
      "• Investigated and implemented advanced prompt engineering techniques including Chain of Thought, \n",
      "Fewshot Learning, Multi -Agent Debate, and reflexion to enhance model performance on JEE Dataset.  \n",
      "• Applied these techniques to achieve up to 55% accuracy on the JEE Bench dataset, demonstrating the \n",
      "effectiveness of prompt engineering in improving model accuracy . \n",
      " \n",
      "EDUCATION  \n",
      "• Master of Operational Research, Hindu College, University of Delhi, 2022,  \n",
      "• Bachelor of Mathematical Sciences, Keshav Mahavidyalaya, University of Delhi, 2019  \n",
      "• CBSE Class 12 (Science), Vijaya Sr. Sec. School, Bahadurgarh, Haryana, 2016  \n",
      "• CBSE Class 10, Vijaya Sr. Sec. School, Bahadurgarh, Haryana, 2014  \n",
      " \n",
      "OTHER  \n",
      "• Achievements: Recognition from Senior Vice President of Cognizant Marketing Team for delivering AI \n",
      "driven solutions, served as a member of NSS for1 year (2016), Participated in Inter College Cricket \n",
      "Tournaments.  \n",
      "• Technical Skills: Python, Machine Learning, Prompt Engineering, Fundamentals of SQL  \n",
      "• Certifications: Python for Data Science, Udemy,  The Complete SQL Bootcamp: Go from Zero to Hero, \n",
      "Udemy, Machine Learning, The Complete Machine Learning Course, Udemy  \n",
      " \n",
      "\n",
      "\n"
     ]
    }
   ],
   "source": [
    "detected_text=''\n",
    "for pages in range(num_pages):\n",
    "    page_obj = pdf_reader.pages[pages] # reading the particular page\n",
    "    detected_text+=page_obj.extract_text()+'\\n\\n' # extracting the content of page and saving in the created string\n",
    "    \n",
    "pdf_file_obj.close() # clossing the file \n",
    "print(detected_text)"
   ]
  },
  {
   "cell_type": "markdown",
   "metadata": {},
   "source": [
    "## First Chat with PDF"
   ]
  },
  {
   "cell_type": "code",
   "execution_count": 70,
   "metadata": {},
   "outputs": [
    {
     "data": {
      "text/plain": [
       "'1.6.1'"
      ]
     },
     "execution_count": 70,
     "metadata": {},
     "output_type": "execute_result"
    }
   ],
   "source": [
    "import os\n",
    "import openai\n",
    "openai.__version__"
   ]
  },
  {
   "cell_type": "code",
   "execution_count": null,
   "metadata": {},
   "outputs": [],
   "source": []
  },
  {
   "cell_type": "code",
   "execution_count": 71,
   "metadata": {},
   "outputs": [],
   "source": [
    "from dotenv import load_dotenv"
   ]
  },
  {
   "cell_type": "code",
   "execution_count": 72,
   "metadata": {},
   "outputs": [
    {
     "data": {
      "text/plain": [
       "True"
      ]
     },
     "execution_count": 72,
     "metadata": {},
     "output_type": "execute_result"
    }
   ],
   "source": [
    "load_dotenv()"
   ]
  },
  {
   "cell_type": "code",
   "execution_count": 73,
   "metadata": {},
   "outputs": [],
   "source": [
    "from openai import OpenAI"
   ]
  },
  {
   "cell_type": "code",
   "execution_count": null,
   "metadata": {},
   "outputs": [],
   "source": []
  },
  {
   "cell_type": "code",
   "execution_count": 74,
   "metadata": {},
   "outputs": [],
   "source": [
    "import os\n",
    "from openai import AzureOpenAI\n",
    "\n",
    "\n",
    "client = AzureOpenAI(\n",
    "  azure_endpoint = os.getenv(\"openai_base\"), \n",
    "  api_key=os.getenv(\"api_key\"),  \n",
    "  api_version=os.getenv(\"api_version\")\n",
    ")\n",
    "\n",
    "def fun(text,Persona=None):\n",
    "  if Persona is None:\n",
    "    message_text = [{\"role\":\"system\",\"content\":\"You are an AI assistant that helps people find information.\"},\n",
    "                {\"role\":\"user\",\"content\":text}\n",
    "                ]\n",
    "  else:\n",
    "    message_text = [{\"role\":\"system\",\"content\":Persona},\n",
    "                {\"role\":\"user\",\"content\":text}\n",
    "                ]  \n",
    "  completion = client.chat.completions.create(\n",
    "  model=\"GPT4-Turbo\", # model = \"deployment_name\"\n",
    "  messages = message_text,\n",
    "  temperature=0.8,\n",
    "  max_tokens=1000,\n",
    "  top_p=0.95,\n",
    "  frequency_penalty=0,\n",
    "  presence_penalty=0,\n",
    "  stop=None\n",
    ")\n",
    "  print(\"Completion Tokens:\",completion.usage.completion_tokens)\n",
    "  print(\"Input Tokens :\",completion.usage.prompt_tokens)\n",
    "  return completion.choices[0].message.content.strip()\n",
    "  "
   ]
  },
  {
   "cell_type": "code",
   "execution_count": 75,
   "metadata": {},
   "outputs": [],
   "source": [
    "# Lets start chatting with CV"
   ]
  },
  {
   "cell_type": "code",
   "execution_count": 78,
   "metadata": {},
   "outputs": [],
   "source": [
    "prompt=\" Give me a list of suitable jobs for the given resume below: \\n Resume:\\n{resume}\""
   ]
  },
  {
   "cell_type": "code",
   "execution_count": 79,
   "metadata": {},
   "outputs": [],
   "source": [
    "persona=\"\"\" YOu are a career advisor who helps  people  in finding jobs by looking at there CV\n",
    "Note:\n",
    "You will stick to given Resume  only and suggest jobs related to resume only.\n",
    "\"\"\""
   ]
  },
  {
   "cell_type": "code",
   "execution_count": 80,
   "metadata": {},
   "outputs": [
    {
     "name": "stdout",
     "output_type": "stream",
     "text": [
      "Completion Tokens: 485\n",
      "Input Tokens : 768\n"
     ]
    }
   ],
   "source": [
    "first_chat=fun(prompt.format(resume=detected_text),persona)"
   ]
  },
  {
   "cell_type": "code",
   "execution_count": 81,
   "metadata": {},
   "outputs": [
    {
     "name": "stdout",
     "output_type": "stream",
     "text": [
      "Based on Sachin Saini's resume, it's clear he has a strong background in data science, machine learning, and AI, with specific experience in predictive modeling, generative AI, and natural language processing. Here's a list of suitable job positions for him:\n",
      "\n",
      "1. **Data Scientist**: Given his role in developing predictive models and experience with machine learning, a position as a Data Scientist seems fitting. He could excel in roles that require predictive analytics, data mining, and algorithm development.\n",
      "\n",
      "2. **Machine Learning Engineer**: Sachin's experience with implementing advanced machine learning techniques and his technical skills in Python and machine learning make him a strong candidate for a Machine Learning Engineer role, focusing on building and optimizing algorithms.\n",
      "\n",
      "3. **AI/ML Research Scientist**: His research experience, particularly in prompt engineering and its application to improve model accuracy, positions him well for roles focused on AI/ML research and development.\n",
      "\n",
      "4. **SEO and Content Generation Specialist**: Sachin's work on developing a Generative AI Content Generation Tool for SEO purposes indicates his ability to apply AI in marketing contexts. He could find roles that blend AI with digital marketing, focusing on content strategy and optimization.\n",
      "\n",
      "5. **Natural Language Processing (NLP) Engineer**: The experience of creating a demo application to generate Google Big Query code from natural language queries suggests he has a strong foundation in NLP. He could pursue roles focusing on developing NLP applications or improving human-computer interaction through language understanding.\n",
      "\n",
      "6. **AI Product Manager**: His success in developing and deploying AI tools, coupled with recognition from senior leadership, suggests he could excel in a role where technical and leadership skills are essential. An AI Product Manager position would allow him to guide the development of AI-driven products from conception to launch.\n",
      "\n",
      "7. **Technical Consultant for AI Solutions**: With his practical experience in applying AI and ML to solve business problems and the ability to present insights and recommendations to stakeholders, Sachin could provide consultancy services focusing on implementing AI solutions in various industries.\n",
      "\n",
      "8. **Software Developer with a focus on AI**: Given his technical skill set, especially in Python and developing RESTful APIs, Sachin could also explore software development roles that emphasize building AI-powered applications.\n",
      "\n",
      "Considering Sachin's robust technical foundation, proven project experience, and research background, he is well-suited for advanced roles that leverage his expertise in AI, machine learning, and data science across different sectors.\n"
     ]
    }
   ],
   "source": [
    "print(first_chat)"
   ]
  },
  {
   "cell_type": "code",
   "execution_count": 86,
   "metadata": {},
   "outputs": [],
   "source": [
    "from IPython.display import Markdown"
   ]
  },
  {
   "cell_type": "code",
   "execution_count": 87,
   "metadata": {},
   "outputs": [
    {
     "data": {
      "text/markdown": [
       "Based on Sachin Saini's resume, it's clear he has a strong background in data science, machine learning, and AI, with specific experience in predictive modeling, generative AI, and natural language processing. Here's a list of suitable job positions for him:\n",
       "\n",
       "1. **Data Scientist**: Given his role in developing predictive models and experience with machine learning, a position as a Data Scientist seems fitting. He could excel in roles that require predictive analytics, data mining, and algorithm development.\n",
       "\n",
       "2. **Machine Learning Engineer**: Sachin's experience with implementing advanced machine learning techniques and his technical skills in Python and machine learning make him a strong candidate for a Machine Learning Engineer role, focusing on building and optimizing algorithms.\n",
       "\n",
       "3. **AI/ML Research Scientist**: His research experience, particularly in prompt engineering and its application to improve model accuracy, positions him well for roles focused on AI/ML research and development.\n",
       "\n",
       "4. **SEO and Content Generation Specialist**: Sachin's work on developing a Generative AI Content Generation Tool for SEO purposes indicates his ability to apply AI in marketing contexts. He could find roles that blend AI with digital marketing, focusing on content strategy and optimization.\n",
       "\n",
       "5. **Natural Language Processing (NLP) Engineer**: The experience of creating a demo application to generate Google Big Query code from natural language queries suggests he has a strong foundation in NLP. He could pursue roles focusing on developing NLP applications or improving human-computer interaction through language understanding.\n",
       "\n",
       "6. **AI Product Manager**: His success in developing and deploying AI tools, coupled with recognition from senior leadership, suggests he could excel in a role where technical and leadership skills are essential. An AI Product Manager position would allow him to guide the development of AI-driven products from conception to launch.\n",
       "\n",
       "7. **Technical Consultant for AI Solutions**: With his practical experience in applying AI and ML to solve business problems and the ability to present insights and recommendations to stakeholders, Sachin could provide consultancy services focusing on implementing AI solutions in various industries.\n",
       "\n",
       "8. **Software Developer with a focus on AI**: Given his technical skill set, especially in Python and developing RESTful APIs, Sachin could also explore software development roles that emphasize building AI-powered applications.\n",
       "\n",
       "Considering Sachin's robust technical foundation, proven project experience, and research background, he is well-suited for advanced roles that leverage his expertise in AI, machine learning, and data science across different sectors."
      ],
      "text/plain": [
       "<IPython.core.display.Markdown object>"
      ]
     },
     "metadata": {},
     "output_type": "display_data"
    }
   ],
   "source": [
    "display(Markdown(first_chat))"
   ]
  },
  {
   "cell_type": "code",
   "execution_count": 92,
   "metadata": {},
   "outputs": [],
   "source": [
    "# Moving the conversation further by using past conversation history for further conversation\n",
    "def continue_chat(persona,user_msg):\n",
    "    system1=[{\"role\":\"system\",\"content\":persona}]\n",
    "    message=[\n",
    "        {\"role\":\"user\",\"content\":user_msg[i]} if i %2 ==0 else {\"role\":\"assistant\",\"content\":user_msg[i]} for i in range(len(user_msg))\n",
    "    ]\n",
    "    all_msg=system1+message \n",
    "    response=completion = client.chat.completions.create(\n",
    "    model=\"GPT4-Turbo\", # model = \"deployment_name\"\n",
    "    messages = all_msg,\n",
    "    temperature=0.8,\n",
    "    max_tokens=1000,\n",
    "    top_p=0.95,\n",
    "    frequency_penalty=0,\n",
    "    presence_penalty=0,\n",
    "    stop=None\n",
    "    )\n",
    "    print(\"Completion Tokens:\",completion.usage.completion_tokens)\n",
    "    print(\"Input Tokens :\",completion.usage.prompt_tokens)\n",
    "    return completion.choices[0].message.content.strip()\n"
   ]
  },
  {
   "cell_type": "code",
   "execution_count": 93,
   "metadata": {},
   "outputs": [],
   "source": [
    "second_chat_msg=\"Based on suggestion of these jobs, Tell me the three jobs with highest salary.\"\n"
   ]
  },
  {
   "cell_type": "code",
   "execution_count": 94,
   "metadata": {},
   "outputs": [],
   "source": [
    "list_of_all_msg=[prompt.format(resume=detected_text),first_chat,second_chat_msg]"
   ]
  },
  {
   "cell_type": "code",
   "execution_count": 95,
   "metadata": {},
   "outputs": [
    {
     "name": "stdout",
     "output_type": "stream",
     "text": [
      "Completion Tokens: 369\n",
      "Input Tokens : 1277\n"
     ]
    }
   ],
   "source": [
    "second_chat_out=continue_chat(persona,list_of_all_msg)"
   ]
  },
  {
   "cell_type": "code",
   "execution_count": 97,
   "metadata": {},
   "outputs": [
    {
     "data": {
      "text/markdown": [
       "Based on Sachin Saini's expertise and the current job market trends as of my last update in 2023, the three job roles likely to command the highest salaries from the list provided are:\n",
       "\n",
       "1. **AI/ML Research Scientist**: Research Scientists in AI and machine learning typically work in specialized fields and are expected to push the boundaries of what's possible with AI technologies. Their roles often involve working on cutting-edge projects in tech companies, research institutions, or in academia. Given the specialized knowledge and innovative nature of the work, AI/ML Research Scientists are highly valued and command top salaries in the industry.\n",
       "\n",
       "2. **Machine Learning Engineer**: Machine Learning Engineers are key players in the tech industry, focusing on creating algorithms and predictive models that allow computers to perform specific tasks without explicit instructions. Their deep technical expertise, especially in deploying machine learning models into production, makes them indispensable to tech companies, especially those with a focus on AI services and products. The demand for these professionals outstrips supply, leading to higher salaries.\n",
       "\n",
       "3. **AI Product Manager**: AI Product Managers play a critical role in bridging the gap between technical teams and the business side, ensuring that AI products meet market needs and are viable. This role requires a unique blend of technical understanding of AI and machine learning, leadership skills, and business acumen. Given the complexity and the high impact of their work, AI Product Managers can command significant salaries, especially in companies that are heavily invested in AI technologies.\n",
       "\n",
       "It's important to note that salary can vary widely depending on several factors, including the employer, geographic location, the individual's level of experience, and the specific industry sector. However, as AI and machine learning continue to drive innovation across various industries, professionals with advanced skills and experience in these areas are likely to remain in high demand and command competitive salaries."
      ],
      "text/plain": [
       "<IPython.core.display.Markdown object>"
      ]
     },
     "metadata": {},
     "output_type": "display_data"
    }
   ],
   "source": [
    "display(Markdown(second_chat_out))"
   ]
  },
  {
   "cell_type": "code",
   "execution_count": null,
   "metadata": {},
   "outputs": [],
   "source": []
  }
 ],
 "metadata": {
  "kernelspec": {
   "display_name": "Python 3",
   "language": "python",
   "name": "python3"
  },
  "language_info": {
   "codemirror_mode": {
    "name": "ipython",
    "version": 3
   },
   "file_extension": ".py",
   "mimetype": "text/x-python",
   "name": "python",
   "nbconvert_exporter": "python",
   "pygments_lexer": "ipython3",
   "version": "3.11.4"
  }
 },
 "nbformat": 4,
 "nbformat_minor": 2
}
