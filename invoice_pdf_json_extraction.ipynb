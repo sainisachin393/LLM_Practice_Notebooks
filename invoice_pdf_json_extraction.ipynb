{
 "cells": [
  {
   "cell_type": "code",
   "execution_count": 2,
   "metadata": {},
   "outputs": [],
   "source": [
    "\n",
    "import PyPDF2 #importing the library\n",
    "pdf_file_obj = open('invoice.pdf', 'rb')# opening the pdf file in read binary format\n",
    "pdf_reader = PyPDF2.PdfReader(pdf_file_obj) # creating pdf reader object\n",
    "num_pages = len(pdf_reader.pages) # reading the total pages\n"
   ]
  },
  {
   "cell_type": "code",
   "execution_count": 3,
   "metadata": {},
   "outputs": [
    {
     "name": "stdout",
     "output_type": "stream",
     "text": [
      "Tax Invoice\n",
      "Order Id: \n",
      "OD226236519855920000 \n",
      "Order Date: \n",
      "11-10-2022, 11:09 PM\n",
      "Invoice No: \n",
      "FAAWJR2300643139\n",
      "Invoice Date: \n",
      "13-10-2022, 02:16 PM\n",
      "GSTIN: 29AADCP7081J1ZY\n",
      "PAN: AADCP7081J\n",
      "Sold By\n",
      " \n",
      "PUMA Sports India Pvt Ltd,\n",
      "Sy No. 491,\n",
      "492/3,492/4,494,493/1,493/2,493/3,493/4,493/5,513/1,513/2,516/1,516/2,517/1,516/5,492,,\n",
      "Madivala village,Kasaba Hobli, Anekal Taluk,\n",
      "BANGALORE - 562106\n",
      " \n",
      "GST: 29AADCP7081J1ZY \n",
      "Billing Address\n",
      " \n",
      "Sachin \n",
      "Saini,\n",
      "Gali no 3, Near Om Sai Mobile,\n",
      "Dayanand Nagar,\n",
      "Bahadurgarh - \n",
      "124507, \n",
      "IN-HR \n",
      "Shipping ADDRESS\n",
      "Sachin Saini, \n",
      "Gali no 3, Near Om Sai Mobile,\n",
      "Dayanand Nagar,\n",
      "Bahadurgarh - 124507, IN-HR\n",
      "Seller Registered Address:\n",
      " \n",
      "PUMA Sports India Pvt Ltd,\n",
      "Puma sports India Pvt Ltd/ Word Cat India Pvt Ltd. 496, Mahadevapura Main Road, \n",
      ", \n",
      "Next to Hewlett Packard Service Gate, Mahadevapura,\n",
      "Bangalore, \n",
      "BANGALORE - 560048. \n",
      "Declaration \n",
      "The goods sold are intended for end user consumption and not for resale. \n",
      "E. & O.E.\n",
      "Product\n",
      "Description\n",
      "Qty\n",
      "Gross \n",
      "Amount\n",
      "Discount\n",
      "Taxable \n",
      "Value\n",
      "IGST\n",
      "Total\n",
      "PUMA Grandeur Walking Shoes For Men Black-\n",
      "White 8 377274 \n",
      "| 4065451607075 \n",
      "| IMEI/SrNo:\n",
      "[[]]\n",
      "HSN: 64041990 \n",
      "| IGST: 18%\n",
      "1\n",
      "1899.00\n",
      "-0.00\n",
      "1609.32\n",
      "289.68\n",
      "1899.00\n",
      "Shipping and Handling\n",
      "Charges\n",
      "1\n",
      "0.00\n",
      "0\n",
      "0.00\n",
      "0.00\n",
      "0.00\n",
      "TOTAL QTY: 1\n",
      "TOTAL PRICE: 1899.00 \n",
      "All values are in INR\n",
      "Ordered Through\n",
      " \n",
      "PUMA Sports India Pvt Ltd\n",
      "Authorized Signature\n",
      "\n",
      "\n"
     ]
    }
   ],
   "source": [
    "detected_text=''\n",
    "for pages in range(num_pages):\n",
    "    page_obj = pdf_reader.pages[pages] # reading the particular page\n",
    "    detected_text+=page_obj.extract_text()+'\\n\\n' # extracting the content of page and saving in the created string\n",
    "    \n",
    "pdf_file_obj.close() # clossing the file \n",
    "print(detected_text)"
   ]
  },
  {
   "cell_type": "code",
   "execution_count": 4,
   "metadata": {},
   "outputs": [],
   "source": []
  },
  {
   "cell_type": "code",
   "execution_count": 5,
   "metadata": {},
   "outputs": [],
   "source": [
    "import os\n",
    "from openai import AzureOpenAI\n",
    "from dotenv import load_dotenv\n",
    "load_dotenv()\n",
    "\n",
    "client = AzureOpenAI(\n",
    "  azure_endpoint = os.getenv(\"openai_base\"), \n",
    "  api_key=os.getenv(\"api_key\"),  \n",
    "  api_version=os.getenv(\"api_version\")\n",
    ")\n",
    "\n",
    "def fun(text,Persona=None):\n",
    "  if Persona is None:\n",
    "    message_text = [{\"role\":\"system\",\"content\":\"You are an AI assistant that helps people find information.\"},\n",
    "                {\"role\":\"user\",\"content\":text}\n",
    "                ]\n",
    "  else:\n",
    "    message_text = [{\"role\":\"system\",\"content\":Persona},\n",
    "                {\"role\":\"user\",\"content\":text}\n",
    "                ]  \n",
    "  completion = client.chat.completions.create(\n",
    "  model=\"GPT4-Turbo\", # model = \"deployment_name\"\n",
    "  messages = message_text,\n",
    "  temperature=0.8,\n",
    "  max_tokens=1000,\n",
    "  top_p=0.95,\n",
    "  frequency_penalty=0,\n",
    "  presence_penalty=0,\n",
    "  stop=None\n",
    ")\n",
    "  print(\"Completion Tokens:\",completion.usage.completion_tokens)\n",
    "  print(\"Input Tokens :\",completion.usage.prompt_tokens)\n",
    "  return completion.choices[0].message.content.strip()\n",
    "  "
   ]
  },
  {
   "cell_type": "code",
   "execution_count": 6,
   "metadata": {},
   "outputs": [],
   "source": [
    "persona=\" You are a invoice processing solution.\""
   ]
  },
  {
   "cell_type": "code",
   "execution_count": 42,
   "metadata": {},
   "outputs": [],
   "source": [
    "query=''' Extract data from below invoice of a shoe and return only json containing these following details:\n",
    "invoice_date, invoice_number, seller_name, seller_address, total_amount, and each line item present in the invoice.\n",
    "Invoice:\\n {invoice}\n",
    "Note:\n",
    "give json only in output.\n",
    "Don't start with 'json'\n",
    "'''"
   ]
  },
  {
   "cell_type": "code",
   "execution_count": 43,
   "metadata": {},
   "outputs": [
    {
     "name": "stdout",
     "output_type": "stream",
     "text": [
      "Completion Tokens: 318\n",
      "Input Tokens : 610\n"
     ]
    }
   ],
   "source": [
    "json1=fun(query.format(invoice=detected_text),persona)"
   ]
  },
  {
   "cell_type": "code",
   "execution_count": 45,
   "metadata": {},
   "outputs": [
    {
     "name": "stdout",
     "output_type": "stream",
     "text": [
      "{\n",
      "  \"invoice_date\": \"13-10-2022, 02:16 PM\",\n",
      "  \"invoice_number\": \"FAAWJR2300643139\",\n",
      "  \"seller_name\": \"PUMA Sports India Pvt Ltd\",\n",
      "  \"seller_address\": \"Sy No. 491, 492/3,492/4,494,493/1,493/2,493/3,493/4,493/5,513/1,513/2,516/1,516/2,517/1,516/5,492,, Madivala village,Kasaba Hobli, Anekal Taluk, BANGALORE - 562106\",\n",
      "  \"total_amount\": 1899.00,\n",
      "  \"line_items\": [\n",
      "    {\n",
      "      \"product_description\": \"PUMA Grandeur Walking Shoes For Men Black-White 8 377274\",\n",
      "      \"quantity\": 1,\n",
      "      \"gross_amount\": 1899.00,\n",
      "      \"discount\": 0.00,\n",
      "      \"taxable_value\": 1609.32,\n",
      "      \"IGST\": 289.68,\n",
      "      \"total\": 1899.00\n",
      "    },\n",
      "    {\n",
      "      \"product_description\": \"Shipping and Handling Charges\",\n",
      "      \"quantity\": 1,\n",
      "      \"gross_amount\": 0.00,\n",
      "      \"discount\": 0,\n",
      "      \"taxable_value\": 0.00,\n",
      "      \"IGST\": 0.00,\n",
      "      \"total\": 0.00\n",
      "    }\n",
      "  ]\n",
      "}\n"
     ]
    }
   ],
   "source": [
    "print(json1)"
   ]
  },
  {
   "cell_type": "code",
   "execution_count": 46,
   "metadata": {},
   "outputs": [],
   "source": [
    "import json"
   ]
  },
  {
   "cell_type": "code",
   "execution_count": 47,
   "metadata": {},
   "outputs": [
    {
     "data": {
      "text/plain": [
       "{'invoice_date': '13-10-2022, 02:16 PM',\n",
       " 'invoice_number': 'FAAWJR2300643139',\n",
       " 'seller_name': 'PUMA Sports India Pvt Ltd',\n",
       " 'seller_address': 'Sy No. 491, 492/3,492/4,494,493/1,493/2,493/3,493/4,493/5,513/1,513/2,516/1,516/2,517/1,516/5,492,, Madivala village,Kasaba Hobli, Anekal Taluk, BANGALORE - 562106',\n",
       " 'total_amount': 1899.0,\n",
       " 'line_items': [{'product_description': 'PUMA Grandeur Walking Shoes For Men Black-White 8 377274',\n",
       "   'quantity': 1,\n",
       "   'gross_amount': 1899.0,\n",
       "   'discount': 0.0,\n",
       "   'taxable_value': 1609.32,\n",
       "   'IGST': 289.68,\n",
       "   'total': 1899.0},\n",
       "  {'product_description': 'Shipping and Handling Charges',\n",
       "   'quantity': 1,\n",
       "   'gross_amount': 0.0,\n",
       "   'discount': 0,\n",
       "   'taxable_value': 0.0,\n",
       "   'IGST': 0.0,\n",
       "   'total': 0.0}]}"
      ]
     },
     "execution_count": 47,
     "metadata": {},
     "output_type": "execute_result"
    }
   ],
   "source": [
    "json.loads(json1)"
   ]
  },
  {
   "cell_type": "code",
   "execution_count": null,
   "metadata": {},
   "outputs": [],
   "source": []
  },
  {
   "cell_type": "code",
   "execution_count": null,
   "metadata": {},
   "outputs": [],
   "source": []
  },
  {
   "cell_type": "markdown",
   "metadata": {},
   "source": [
    "## Document Classification"
   ]
  },
  {
   "cell_type": "code",
   "execution_count": 49,
   "metadata": {},
   "outputs": [],
   "source": [
    "import shutil\n",
    "import os"
   ]
  },
  {
   "cell_type": "code",
   "execution_count": null,
   "metadata": {},
   "outputs": [],
   "source": [
    "def list_files_only(directory_path):\n",
    "    if os.path.isdir(directory_path):\n",
    "        "
   ]
  }
 ],
 "metadata": {
  "kernelspec": {
   "display_name": "base",
   "language": "python",
   "name": "python3"
  },
  "language_info": {
   "codemirror_mode": {
    "name": "ipython",
    "version": 3
   },
   "file_extension": ".py",
   "mimetype": "text/x-python",
   "name": "python",
   "nbconvert_exporter": "python",
   "pygments_lexer": "ipython3",
   "version": "3.11.4"
  }
 },
 "nbformat": 4,
 "nbformat_minor": 2
}
